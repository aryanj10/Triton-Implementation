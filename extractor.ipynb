{
 "cells": [
  {
   "cell_type": "code",
   "execution_count": 1,
   "id": "5a8970a4",
   "metadata": {},
   "outputs": [
    {
     "name": "stdout",
     "output_type": "stream",
     "text": [
      "Requirement already satisfied: torch in ./.venv/lib/python3.10/site-packages (2.7.0)\n",
      "Requirement already satisfied: torchvision in ./.venv/lib/python3.10/site-packages (0.22.0)\n",
      "Collecting timm\n",
      "  Downloading timm-1.0.15-py3-none-any.whl.metadata (52 kB)\n",
      "Collecting umap-learn\n",
      "  Using cached umap_learn-0.5.7-py3-none-any.whl.metadata (21 kB)\n",
      "Requirement already satisfied: filelock in ./.venv/lib/python3.10/site-packages (from torch) (3.18.0)\n",
      "Requirement already satisfied: typing-extensions>=4.10.0 in ./.venv/lib/python3.10/site-packages (from torch) (4.13.2)\n",
      "Requirement already satisfied: sympy>=1.13.3 in ./.venv/lib/python3.10/site-packages (from torch) (1.14.0)\n",
      "Requirement already satisfied: networkx in ./.venv/lib/python3.10/site-packages (from torch) (3.4.2)\n",
      "Requirement already satisfied: jinja2 in ./.venv/lib/python3.10/site-packages (from torch) (3.1.6)\n",
      "Requirement already satisfied: fsspec in ./.venv/lib/python3.10/site-packages (from torch) (2025.3.2)\n",
      "Requirement already satisfied: nvidia-cuda-nvrtc-cu12==12.6.77 in ./.venv/lib/python3.10/site-packages (from torch) (12.6.77)\n",
      "Requirement already satisfied: nvidia-cuda-runtime-cu12==12.6.77 in ./.venv/lib/python3.10/site-packages (from torch) (12.6.77)\n",
      "Requirement already satisfied: nvidia-cuda-cupti-cu12==12.6.80 in ./.venv/lib/python3.10/site-packages (from torch) (12.6.80)\n",
      "Requirement already satisfied: nvidia-cudnn-cu12==9.5.1.17 in ./.venv/lib/python3.10/site-packages (from torch) (9.5.1.17)\n",
      "Requirement already satisfied: nvidia-cublas-cu12==12.6.4.1 in ./.venv/lib/python3.10/site-packages (from torch) (12.6.4.1)\n",
      "Requirement already satisfied: nvidia-cufft-cu12==11.3.0.4 in ./.venv/lib/python3.10/site-packages (from torch) (11.3.0.4)\n",
      "Requirement already satisfied: nvidia-curand-cu12==10.3.7.77 in ./.venv/lib/python3.10/site-packages (from torch) (10.3.7.77)\n",
      "Requirement already satisfied: nvidia-cusolver-cu12==11.7.1.2 in ./.venv/lib/python3.10/site-packages (from torch) (11.7.1.2)\n",
      "Requirement already satisfied: nvidia-cusparse-cu12==12.5.4.2 in ./.venv/lib/python3.10/site-packages (from torch) (12.5.4.2)\n",
      "Requirement already satisfied: nvidia-cusparselt-cu12==0.6.3 in ./.venv/lib/python3.10/site-packages (from torch) (0.6.3)\n",
      "Requirement already satisfied: nvidia-nccl-cu12==2.26.2 in ./.venv/lib/python3.10/site-packages (from torch) (2.26.2)\n",
      "Requirement already satisfied: nvidia-nvtx-cu12==12.6.77 in ./.venv/lib/python3.10/site-packages (from torch) (12.6.77)\n",
      "Requirement already satisfied: nvidia-nvjitlink-cu12==12.6.85 in ./.venv/lib/python3.10/site-packages (from torch) (12.6.85)\n",
      "Requirement already satisfied: nvidia-cufile-cu12==1.11.1.6 in ./.venv/lib/python3.10/site-packages (from torch) (1.11.1.6)\n",
      "Requirement already satisfied: triton==3.3.0 in ./.venv/lib/python3.10/site-packages (from torch) (3.3.0)\n",
      "Requirement already satisfied: setuptools>=40.8.0 in ./.venv/lib/python3.10/site-packages (from triton==3.3.0->torch) (79.0.0)\n",
      "Requirement already satisfied: numpy in ./.venv/lib/python3.10/site-packages (from torchvision) (1.26.4)\n",
      "Requirement already satisfied: pillow!=8.3.*,>=5.3.0 in ./.venv/lib/python3.10/site-packages (from torchvision) (11.2.1)\n",
      "Requirement already satisfied: pyyaml in ./.venv/lib/python3.10/site-packages (from timm) (6.0.2)\n",
      "Collecting huggingface_hub (from timm)\n",
      "  Downloading huggingface_hub-0.30.2-py3-none-any.whl.metadata (13 kB)\n",
      "Collecting safetensors (from timm)\n",
      "  Using cached safetensors-0.5.3-cp38-abi3-manylinux_2_17_x86_64.manylinux2014_x86_64.whl.metadata (3.8 kB)\n",
      "Requirement already satisfied: scipy>=1.3.1 in ./.venv/lib/python3.10/site-packages (from umap-learn) (1.15.2)\n",
      "Requirement already satisfied: scikit-learn>=0.22 in ./.venv/lib/python3.10/site-packages (from umap-learn) (1.6.1)\n",
      "Collecting numba>=0.51.2 (from umap-learn)\n",
      "  Using cached numba-0.61.2-cp310-cp310-manylinux2014_x86_64.manylinux_2_17_x86_64.whl.metadata (2.8 kB)\n",
      "Collecting pynndescent>=0.5 (from umap-learn)\n",
      "  Using cached pynndescent-0.5.13-py3-none-any.whl.metadata (6.8 kB)\n",
      "Requirement already satisfied: tqdm in ./.venv/lib/python3.10/site-packages (from umap-learn) (4.67.1)\n",
      "Collecting llvmlite<0.45,>=0.44.0dev0 (from numba>=0.51.2->umap-learn)\n",
      "  Using cached llvmlite-0.44.0-cp310-cp310-manylinux_2_17_x86_64.manylinux2014_x86_64.whl.metadata (4.8 kB)\n",
      "Requirement already satisfied: joblib>=0.11 in ./.venv/lib/python3.10/site-packages (from pynndescent>=0.5->umap-learn) (1.4.2)\n",
      "Requirement already satisfied: threadpoolctl>=3.1.0 in ./.venv/lib/python3.10/site-packages (from scikit-learn>=0.22->umap-learn) (3.6.0)\n",
      "Requirement already satisfied: mpmath<1.4,>=1.1.0 in ./.venv/lib/python3.10/site-packages (from sympy>=1.13.3->torch) (1.3.0)\n",
      "Requirement already satisfied: packaging>=20.9 in ./.venv/lib/python3.10/site-packages (from huggingface_hub->timm) (25.0)\n",
      "Requirement already satisfied: requests in ./.venv/lib/python3.10/site-packages (from huggingface_hub->timm) (2.32.3)\n",
      "Requirement already satisfied: MarkupSafe>=2.0 in ./.venv/lib/python3.10/site-packages (from jinja2->torch) (3.0.2)\n",
      "Requirement already satisfied: charset-normalizer<4,>=2 in ./.venv/lib/python3.10/site-packages (from requests->huggingface_hub->timm) (3.4.1)\n",
      "Requirement already satisfied: idna<4,>=2.5 in ./.venv/lib/python3.10/site-packages (from requests->huggingface_hub->timm) (3.10)\n",
      "Requirement already satisfied: urllib3<3,>=1.21.1 in ./.venv/lib/python3.10/site-packages (from requests->huggingface_hub->timm) (2.4.0)\n",
      "Requirement already satisfied: certifi>=2017.4.17 in ./.venv/lib/python3.10/site-packages (from requests->huggingface_hub->timm) (2025.1.31)\n",
      "Downloading timm-1.0.15-py3-none-any.whl (2.4 MB)\n",
      "\u001b[2K   \u001b[90m━━━━━━━━━━━━━━━━━━━━━━━━━━━━━━━━━━━━━━━━\u001b[0m \u001b[32m2.4/2.4 MB\u001b[0m \u001b[31m11.2 MB/s\u001b[0m eta \u001b[36m0:00:00\u001b[0m00:01\u001b[0m\n",
      "\u001b[?25hUsing cached umap_learn-0.5.7-py3-none-any.whl (88 kB)\n",
      "Using cached numba-0.61.2-cp310-cp310-manylinux2014_x86_64.manylinux_2_17_x86_64.whl (3.8 MB)\n",
      "Using cached pynndescent-0.5.13-py3-none-any.whl (56 kB)\n",
      "Downloading huggingface_hub-0.30.2-py3-none-any.whl (481 kB)\n",
      "Using cached safetensors-0.5.3-cp38-abi3-manylinux_2_17_x86_64.manylinux2014_x86_64.whl (471 kB)\n",
      "Using cached llvmlite-0.44.0-cp310-cp310-manylinux_2_17_x86_64.manylinux2014_x86_64.whl (42.4 MB)\n",
      "Installing collected packages: safetensors, llvmlite, numba, huggingface_hub, pynndescent, umap-learn, timm\n",
      "Successfully installed huggingface_hub-0.30.2 llvmlite-0.44.0 numba-0.61.2 pynndescent-0.5.13 safetensors-0.5.3 timm-1.0.15 umap-learn-0.5.7\n",
      "\n",
      "\u001b[1m[\u001b[0m\u001b[34;49mnotice\u001b[0m\u001b[1;39;49m]\u001b[0m\u001b[39;49m A new release of pip is available: \u001b[0m\u001b[31;49m25.0.1\u001b[0m\u001b[39;49m -> \u001b[0m\u001b[32;49m25.1\u001b[0m\n",
      "\u001b[1m[\u001b[0m\u001b[34;49mnotice\u001b[0m\u001b[1;39;49m]\u001b[0m\u001b[39;49m To update, run: \u001b[0m\u001b[32;49mpip install --upgrade pip\u001b[0m\n"
     ]
    }
   ],
   "source": [
    "!pip install torch torchvision timm umap-learn"
   ]
  },
  {
   "cell_type": "code",
   "execution_count": 6,
   "id": "335cc181",
   "metadata": {},
   "outputs": [
    {
     "name": "stdout",
     "output_type": "stream",
     "text": [
      "Collecting opencv-python-headless\n",
      "  Downloading opencv_python_headless-4.11.0.86-cp37-abi3-manylinux_2_17_x86_64.manylinux2014_x86_64.whl.metadata (20 kB)\n",
      "Requirement already satisfied: numpy>=1.21.2 in ./.venv/lib/python3.10/site-packages (from opencv-python-headless) (1.26.4)\n",
      "Downloading opencv_python_headless-4.11.0.86-cp37-abi3-manylinux_2_17_x86_64.manylinux2014_x86_64.whl (50.0 MB)\n",
      "\u001b[2K   \u001b[90m━━━━━━━━━━━━━━━━━━━━━━━━━━━━━━━━━━━━━━━━\u001b[0m \u001b[32m50.0/50.0 MB\u001b[0m \u001b[31m11.4 MB/s\u001b[0m eta \u001b[36m0:00:00\u001b[0m00:01\u001b[0m00:01\u001b[0m\n",
      "\u001b[?25hInstalling collected packages: opencv-python-headless\n",
      "Successfully installed opencv-python-headless-4.11.0.86\n",
      "\n",
      "\u001b[1m[\u001b[0m\u001b[34;49mnotice\u001b[0m\u001b[1;39;49m]\u001b[0m\u001b[39;49m A new release of pip is available: \u001b[0m\u001b[31;49m25.0.1\u001b[0m\u001b[39;49m -> \u001b[0m\u001b[32;49m25.1\u001b[0m\n",
      "\u001b[1m[\u001b[0m\u001b[34;49mnotice\u001b[0m\u001b[1;39;49m]\u001b[0m\u001b[39;49m To update, run: \u001b[0m\u001b[32;49mpip install --upgrade pip\u001b[0m\n"
     ]
    }
   ],
   "source": [
    "!pip install opencv-python-headless"
   ]
  },
  {
   "cell_type": "code",
   "execution_count": 8,
   "id": "0edf31c2",
   "metadata": {},
   "outputs": [
    {
     "name": "stdout",
     "output_type": "stream",
     "text": [
      "Requirement already satisfied: tqdm in ./.venv/lib/python3.10/site-packages (4.67.1)\n",
      "\n",
      "\u001b[1m[\u001b[0m\u001b[34;49mnotice\u001b[0m\u001b[1;39;49m]\u001b[0m\u001b[39;49m A new release of pip is available: \u001b[0m\u001b[31;49m25.0.1\u001b[0m\u001b[39;49m -> \u001b[0m\u001b[32;49m25.1\u001b[0m\n",
      "\u001b[1m[\u001b[0m\u001b[34;49mnotice\u001b[0m\u001b[1;39;49m]\u001b[0m\u001b[39;49m To update, run: \u001b[0m\u001b[32;49mpip install --upgrade pip\u001b[0m\n",
      "Note: you may need to restart the kernel to use updated packages.\n"
     ]
    }
   ],
   "source": [
    "pip install tqdm"
   ]
  },
  {
   "cell_type": "code",
   "execution_count": 2,
   "id": "e05b92af",
   "metadata": {},
   "outputs": [
    {
     "name": "stderr",
     "output_type": "stream",
     "text": [
      "/home/aj3246/TRITON/.venv/lib/python3.10/site-packages/tqdm/auto.py:21: TqdmWarning: IProgress not found. Please update jupyter and ipywidgets. See https://ipywidgets.readthedocs.io/en/stable/user_install.html\n",
      "  from .autonotebook import tqdm as notebook_tqdm\n"
     ]
    }
   ],
   "source": [
    "import torch\n",
    "import timm\n",
    "import torchvision.transforms as transforms\n",
    "from torchvision.utils import make_grid\n",
    "from PIL import Image\n",
    "import numpy as np\n",
    "import umap\n",
    "import matplotlib.pyplot as plt"
   ]
  },
  {
   "cell_type": "code",
   "execution_count": 3,
   "id": "17e2c237",
   "metadata": {},
   "outputs": [
    {
     "name": "stdout",
     "output_type": "stream",
     "text": [
      "Model loaded and moved to device: cuda\n"
     ]
    }
   ],
   "source": [
    "# Load DINOv2 ViT-small (pretrained)\n",
    "dino_model = timm.create_model('vit_small_patch16_224.dino', pretrained=True)\n",
    "dino_model.eval()\n",
    "\n",
    "# Move model to GPU if available\n",
    "device = torch.device(\"cuda\" if torch.cuda.is_available() else \"cpu\")\n",
    "dino_model = dino_model.to(device)\n",
    "\n",
    "print(\"Model loaded and moved to device:\", device)"
   ]
  },
  {
   "cell_type": "code",
   "execution_count": 4,
   "id": "caddd1bd",
   "metadata": {},
   "outputs": [
    {
     "name": "stdout",
     "output_type": "stream",
     "text": [
      "Model loaded and moved to device: cuda\n"
     ]
    }
   ],
   "source": [
    "print(\"Model loaded and moved to device:\", device)"
   ]
  },
  {
   "cell_type": "code",
   "execution_count": 9,
   "id": "cfe21bb9",
   "metadata": {},
   "outputs": [],
   "source": [
    "from tqdm import tqdm\n",
    "# Transformation for DINOv2\n",
    "\n",
    "# Faster DINOv2 Transformation without PIL\n",
    "dino_transform = transforms.Compose([\n",
    "    transforms.ToTensor(),  # Direct from numpy (uint8) to tensor [0,1]\n",
    "    transforms.Resize((224, 224), antialias=True),\n",
    "    transforms.ConvertImageDtype(torch.float32),  # Ensure float32\n",
    "    transforms.Normalize(mean=(0.5, 0.5, 0.5), std=(0.5, 0.5, 0.5))\n",
    "])\n",
    "\n",
    "\n",
    "# Feature extraction function\n",
    "def extract_features_dino(images_np, batch_size=128):\n",
    "    features = []\n",
    "    num_images = len(images_np)\n",
    "    \n",
    "    for i in tqdm(range(0, num_images, batch_size), desc=\"Extracting features\"):\n",
    "        batch_images = images_np[i:i+batch_size]\n",
    "        batch_tensors = []\n",
    "\n",
    "        for img_np in batch_images:\n",
    "            img_tensor = torch.from_numpy(img_np).permute(2, 0, 1)  # (H, W, C) -> (C, H, W)\n",
    "            img_tensor = img_tensor.float() / 255.0  # Scale 0-1\n",
    "            img_tensor = torch.nn.functional.interpolate(img_tensor.unsqueeze(0), size=(224,224), mode='bilinear', align_corners=False)\n",
    "            img_tensor = img_tensor.squeeze(0)\n",
    "            img_tensor = (img_tensor - 0.5) / 0.5  # Normalize to mean=0, std=1\n",
    "            batch_tensors.append(img_tensor)\n",
    "\n",
    "        batch_tensors = torch.stack(batch_tensors).to(device)  # (batch_size, 3, 224, 224)\n",
    "\n",
    "        with torch.no_grad():\n",
    "            feats = dino_model.forward_features(batch_tensors)[:, 0]  # Take only CLS token\n",
    "\n",
    "        features.append(feats.cpu().numpy())\n",
    "\n",
    "    features = np.concatenate(features, axis=0)\n",
    "    return features\n",
    "\n"
   ]
  },
  {
   "cell_type": "code",
   "execution_count": 6,
   "id": "b209ba13",
   "metadata": {},
   "outputs": [
    {
     "name": "stdout",
     "output_type": "stream",
     "text": [
      "✅ Loaded 4295 images, shape: (4295, 32, 32, 3)\n"
     ]
    }
   ],
   "source": [
    "import cv2\n",
    "import os\n",
    "import numpy as np\n",
    "\n",
    "def load_images_cv2(folder_path, resize_shape=(32, 32)):\n",
    "    image_list = []\n",
    "    for filename in os.listdir(folder_path):\n",
    "        if filename.lower().endswith(('.png', '.jpg', '.jpeg')):\n",
    "            img_path = os.path.join(folder_path, filename)\n",
    "            img = cv2.imread(img_path)  # BGR format\n",
    "            if img is None:\n",
    "                continue\n",
    "            img = cv2.cvtColor(img, cv2.COLOR_BGR2RGB)  # Convert to RGB\n",
    "            img = cv2.resize(img, resize_shape)\n",
    "            image_list.append(img)\n",
    "    return np.array(image_list)\n",
    "\n",
    "# Usage\n",
    "images_folder = '/home/aj3246/TRITON/material/material_data/1'\n",
    "images_np = load_images_cv2(images_folder, resize_shape=(32, 32))\n",
    "\n",
    "print(f\"✅ Loaded {len(images_np)} images, shape: {images_np.shape}\")\n"
   ]
  },
  {
   "cell_type": "code",
   "execution_count": 10,
   "id": "e4798d97",
   "metadata": {},
   "outputs": [
    {
     "name": "stderr",
     "output_type": "stream",
     "text": [
      "Extracting features: 100%|██████████| 34/34 [06:15<00:00, 11.05s/it]"
     ]
    },
    {
     "name": "stdout",
     "output_type": "stream",
     "text": [
      "(4295, 384)\n"
     ]
    },
    {
     "name": "stderr",
     "output_type": "stream",
     "text": [
      "\n"
     ]
    }
   ],
   "source": [
    "features = extract_features_dino(images_np)\n",
    "print(features.shape)  # Should be (num_images, 384)\n"
   ]
  },
  {
   "cell_type": "code",
   "execution_count": 25,
   "id": "a12b8fbb",
   "metadata": {},
   "outputs": [
    {
     "name": "stderr",
     "output_type": "stream",
     "text": [
      "/home/aj3246/TRITON/.venv/lib/python3.10/site-packages/sklearn/utils/deprecation.py:151: FutureWarning: 'force_all_finite' was renamed to 'ensure_all_finite' in 1.6 and will be removed in 1.8.\n",
      "  warnings.warn(\n",
      "/home/aj3246/TRITON/.venv/lib/python3.10/site-packages/umap/umap_.py:1952: UserWarning: n_jobs value 1 overridden to 1 by setting random_state. Use no seed for parallelism.\n",
      "  warn(\n"
     ]
    },
    {
     "name": "stdout",
     "output_type": "stream",
     "text": [
      "(4295, 2)\n"
     ]
    }
   ],
   "source": [
    "# Apply UMAP\n",
    "reducer = umap.UMAP(n_components=2, random_state=42)\n",
    "embeddings = reducer.fit_transform(features)\n",
    "\n",
    "print(embeddings.shape)  # (num_images, 2)\n"
   ]
  },
  {
   "cell_type": "code",
   "execution_count": 26,
   "id": "190b7d5b",
   "metadata": {},
   "outputs": [
    {
     "data": {
      "image/png": "[encoded data removed]",
      "text/plain": [
       "<Figure size 800x600 with 1 Axes>"
      ]
     },
     "metadata": {},
     "output_type": "display_data"
    }
   ],
   "source": [
    "plt.figure(figsize=(8,6))\n",
    "plt.scatter(embeddings[:,0], embeddings[:,1], s=30)\n",
    "plt.title('UMAP of DINOv2 Features')\n",
    "plt.show()"
   ]
  },
  {
   "cell_type": "code",
   "execution_count": 11,
   "id": "e42c1f7d",
   "metadata": {},
   "outputs": [
    {
     "name": "stdout",
     "output_type": "stream",
     "text": [
      "✅ Saved model to dino_model/1/model.pt\n"
     ]
    }
   ],
   "source": [
    "import torch\n",
    "\n",
    "# Script the DINOv2 feature extractor\n",
    "class DinoFeatureExtractor(torch.nn.Module):\n",
    "    def __init__(self, model):\n",
    "        super(DinoFeatureExtractor, self).__init__()\n",
    "        self.backbone = model\n",
    "\n",
    "    def forward(self, x):\n",
    "        x = self.backbone.forward_features(x)  # Get all tokens\n",
    "        x = x[:, 0]  # Take only CLS token\n",
    "        return x  # Output shape (batch_size, 384)\n",
    "\n",
    "# Wrap the model\n",
    "feature_extractor = DinoFeatureExtractor(dino_model).to('cpu')  # Move to CPU for scripting\n",
    "\n",
    "# Save as TorchScript\n",
    "scripted_model = torch.jit.script(feature_extractor)\n",
    "os.makedirs(\"dino_model/1\", exist_ok=True)\n",
    "scripted_model.save(\"dino_model/1/model.pt\")\n",
    "\n",
    "print(\"✅ Saved model to dino_model/1/model.pt\")\n"
   ]
  },
  {
   "cell_type": "code",
   "execution_count": 12,
   "id": "0226f5a5",
   "metadata": {},
   "outputs": [
    {
     "name": "stdout",
     "output_type": "stream",
     "text": [
      "torch.Size([2, 384])\n",
      "tensor([[-4.5312e-01,  4.2606e+00,  3.8731e+00,  3.0325e+00,  4.6459e+00,\n",
      "          3.9758e-01,  2.0155e+00, -6.1929e+00,  1.4768e-01, -1.1324e+00,\n",
      "          2.6680e+00,  1.7563e+00, -5.9210e-01,  2.6389e+00,  4.2025e+00,\n",
      "         -1.9141e+00, -1.0619e+00,  3.8621e+00, -7.8619e-01,  5.7385e+00,\n",
      "          4.4503e+00,  9.1155e-01, -2.2616e+00,  4.2799e-01,  6.1353e+00,\n",
      "         -8.0313e+00,  2.1035e+00,  6.9537e+00,  2.2623e-01, -1.2859e+00,\n",
      "         -9.1714e+00, -6.3343e-01,  4.8045e+00, -2.4371e-01,  1.1984e+00,\n",
      "          1.8055e+00,  4.3401e+00,  1.8364e-01, -5.6501e+00,  4.8747e+00,\n",
      "          4.3270e+00,  3.8891e+00, -5.0887e+00,  3.1894e+00,  1.7894e+00,\n",
      "         -2.0224e+00, -3.3469e+00, -1.4474e+00,  1.1840e+01, -5.4967e+00,\n",
      "         -5.5850e+00,  3.0619e+00, -1.0941e+00, -2.3293e+00,  1.6631e+00,\n",
      "         -2.0059e+00,  2.2990e+00,  1.0111e+01, -1.3198e+00, -3.0014e+00,\n",
      "          1.7773e+00, -1.8893e+00, -1.7542e+00, -5.1122e+00, -2.1741e+00,\n",
      "          4.7240e+00, -4.6974e-01, -2.9604e-04, -9.3111e-01, -2.2071e+00,\n",
      "          2.0821e+00,  1.9336e+00, -3.2043e+00, -2.4537e+00,  6.0152e+00,\n",
      "         -3.9406e+00, -1.0114e+00,  1.0697e+00, -3.1695e+00, -7.5449e+00,\n",
      "         -2.1594e+00,  3.5338e+00, -4.5770e+00, -4.7227e+00, -3.1534e-01,\n",
      "          6.8118e+00,  3.5451e+00,  5.3228e+00,  5.4189e+00,  1.3649e-01,\n",
      "          1.3874e+01, -1.0392e+00,  3.8819e-01, -1.3806e-01, -7.1718e+00,\n",
      "          1.5881e+01,  1.9543e+00, -1.7867e+00,  4.5524e-01, -3.5473e+00,\n",
      "         -2.1707e+00,  7.5528e+00,  1.2092e+01, -1.7273e+00, -1.8950e+00,\n",
      "          4.4976e+00,  3.3178e+00,  1.8493e+00, -7.4248e+00, -8.0994e+00,\n",
      "          4.7576e+00, -2.8329e+00, -6.5079e+00, -9.1443e-01,  6.1955e-01,\n",
      "          3.4782e-01,  1.4335e+00, -3.1092e+00, -4.1069e+00, -7.8441e+00,\n",
      "          6.4102e+00, -5.2940e+00, -2.9351e+00,  2.6526e+00,  1.0636e+00,\n",
      "         -1.4392e+00, -3.0537e+00,  4.7426e+00,  7.3089e+00, -9.3086e+00,\n",
      "         -1.8788e+00,  4.0392e+00, -5.2269e+00,  7.2070e-01,  1.2729e+00,\n",
      "          4.9636e+00, -5.2474e+00,  1.9875e+00, -5.7666e+00,  4.4763e-02,\n",
      "         -3.3687e-01, -7.9503e+00, -1.6296e-01, -7.3110e-03, -6.9677e+00,\n",
      "         -1.8398e+00,  5.5391e+00,  1.9299e+00, -2.7020e+00, -5.9633e+00,\n",
      "          5.5942e-01, -4.6507e+00,  3.5948e+00, -5.0968e+00,  1.9627e+00,\n",
      "         -3.0716e+00, -7.4567e+00,  4.9119e+00, -3.6749e-01, -1.1387e-01,\n",
      "         -2.7229e+00,  2.7603e+00,  6.4653e+00, -2.7529e+00, -5.0514e+00,\n",
      "         -7.5254e-01,  6.0645e+00, -4.9010e+00,  1.8514e+00, -4.3499e+00,\n",
      "          2.7643e+00,  4.8081e+00,  2.2514e+00,  1.3934e+01, -2.9374e+00,\n",
      "         -4.4802e+00, -2.1864e+00, -8.9282e+00, -1.1724e+01, -3.2746e+00,\n",
      "          1.3826e+00, -2.7143e+00, -1.8181e+00, -7.4398e-01,  2.3538e+00,\n",
      "         -1.8464e-01, -2.4042e+00, -8.6326e+00, -3.5779e+00, -5.2075e+00,\n",
      "          6.4405e+00, -9.9517e-01, -3.7862e+00,  5.1767e+00, -5.4102e+00,\n",
      "         -6.2476e-01,  1.6188e-01, -3.8074e+00, -4.7627e+00,  5.4576e+00,\n",
      "          2.3516e+00,  2.6951e+00, -3.1373e+00,  9.3558e+00,  3.4965e+00,\n",
      "         -9.1954e+00, -5.1029e-01,  2.5103e-01, -4.4521e+00,  1.6616e+00,\n",
      "         -3.5567e+00,  3.1343e+00,  9.9086e-01,  1.8801e+00,  4.3985e+00,\n",
      "         -9.3051e-02,  4.7951e+00, -7.6005e+00,  2.3130e+00,  1.1560e+00,\n",
      "          7.9592e+00, -5.1880e-01, -7.5373e-01, -5.6629e+00,  8.7994e-01,\n",
      "         -1.9941e+00,  7.2509e-01, -3.1567e+00,  5.5388e+00, -7.9573e-01,\n",
      "          4.9940e+00,  8.8032e-01, -8.3459e+00, -3.1793e+00,  6.4034e-01,\n",
      "         -8.9818e-01,  6.6840e+00, -6.1194e+00,  2.1426e+00, -2.4747e+00,\n",
      "         -6.4917e+00, -4.8224e-01,  7.0868e+00, -6.8470e-02, -7.5490e+00,\n",
      "         -9.5580e-01, -1.6802e-01,  1.4573e-01, -5.3193e-01,  4.8237e+00,\n",
      "         -4.7617e+00, -1.2509e+00,  5.6894e+00,  4.5180e+00, -1.0677e+00,\n",
      "         -4.1638e+00, -6.8295e+00,  4.0397e+00,  3.1872e+00, -4.2856e+00,\n",
      "         -2.3243e+00,  6.6554e+00,  4.2111e+00, -1.2440e+00, -2.6134e+00,\n",
      "          1.2797e+00,  2.2832e+00,  2.8660e+00,  7.6756e+00,  9.3453e+00,\n",
      "         -3.1148e+00, -1.9423e+00, -1.4229e+00,  2.3945e+00,  4.0541e+00,\n",
      "          4.2424e-01,  6.4550e+00,  4.6511e-01, -1.5993e+00,  2.6023e+00,\n",
      "          1.5331e+00, -7.1497e+00,  2.2271e-01, -4.1773e+00, -4.1315e+00,\n",
      "         -6.8580e+00,  5.3415e+00, -6.2053e+00, -5.2770e-01,  6.3624e-01,\n",
      "          2.5497e+00, -4.1033e+00,  4.0265e+00, -6.1975e-01, -2.6524e+00,\n",
      "          2.2042e+00,  1.1284e+00, -8.1693e+00,  1.3676e+01,  8.5917e+00,\n",
      "         -1.5509e+00, -5.4581e+00,  2.6316e+00, -1.6138e+00,  4.1801e-01,\n",
      "         -5.0519e+00,  4.1163e+00, -6.6502e+00, -4.8343e+00,  4.3340e+00,\n",
      "          3.0579e+00, -5.1297e+00, -8.4529e-01, -1.0751e-01, -3.7494e-02,\n",
      "          6.8689e-02, -3.3042e+00,  6.1359e+00, -2.6114e+00,  1.2568e+01,\n",
      "         -4.2380e+00, -1.5479e+01, -3.4844e+00,  2.5897e-01, -1.7892e+00,\n",
      "         -5.7376e-02,  2.6318e-01, -1.2348e+00, -2.7238e+00,  3.9032e+00,\n",
      "         -4.2652e-01, -1.4673e+01, -4.9116e+00,  1.2606e+01,  2.4078e+00,\n",
      "         -2.1136e+00,  4.4399e+00, -3.0258e+00,  1.0697e+01,  6.0354e+00,\n",
      "         -4.1652e+00, -1.6672e+00,  5.0702e+00,  3.9002e-01,  2.4673e+00,\n",
      "          4.9792e+00, -1.3313e+00, -7.8667e-01, -3.3231e-01,  1.3774e+00,\n",
      "          1.3358e+01,  3.3652e+00, -8.3422e+00,  5.5856e+00, -2.8544e+00,\n",
      "          1.3781e+00, -1.4273e+00,  1.6711e+00, -5.9235e+00, -1.0795e+01,\n",
      "         -1.3798e-01, -3.6340e+00, -6.9188e+00,  8.4936e-01, -2.9850e+00,\n",
      "          4.4160e+00,  9.3983e+00, -8.9019e+00,  5.6712e+00,  3.5908e+00,\n",
      "         -6.1583e+00,  8.8621e+00,  7.3862e+00, -4.2895e-01,  1.3737e+00,\n",
      "          4.4883e+00,  9.5754e+00, -5.5911e-01, -2.5208e+00, -6.1775e-01,\n",
      "         -7.9876e-01,  4.6236e+00, -1.2528e+00,  3.1362e-01],\n",
      "        [-9.5737e-01,  3.7811e+00,  2.7795e+00,  3.1892e+00,  3.9900e+00,\n",
      "          5.8880e-01,  3.0126e+00, -5.9277e+00,  4.3647e-01, -6.9895e-01,\n",
      "          3.1116e+00,  1.2832e+00, -6.5901e-01,  4.2114e+00,  4.1665e+00,\n",
      "         -1.4088e+00, -1.2423e+00,  3.6887e+00, -9.4548e-01,  6.3489e+00,\n",
      "          5.1793e+00,  1.9068e+00, -2.2003e+00,  6.5406e-01,  7.1134e+00,\n",
      "         -8.3909e+00,  2.0904e+00,  8.2230e+00,  3.7974e-01, -9.9847e-01,\n",
      "         -9.7518e+00, -4.7601e-01,  2.9418e+00, -9.2007e-01,  1.3120e+00,\n",
      "          1.5075e+00,  4.2900e+00, -7.6271e-02, -4.7309e+00,  5.0549e+00,\n",
      "          3.2957e+00,  3.9185e+00, -4.5729e+00,  2.9124e+00,  2.1718e+00,\n",
      "         -2.5160e+00, -1.9447e+00, -1.1689e+00,  1.1483e+01, -5.1795e+00,\n",
      "         -5.2308e+00,  2.4303e+00, -1.5338e+00, -2.5426e+00,  1.0317e+00,\n",
      "         -1.6131e+00,  1.8270e+00,  9.9968e+00, -9.7432e-01, -2.9175e+00,\n",
      "          2.2108e+00, -1.6203e+00, -2.1666e+00, -5.0404e+00, -1.0941e+00,\n",
      "          4.6399e+00, -1.0958e+00,  3.8858e-01, -1.3147e+00, -7.9088e-01,\n",
      "          2.1605e+00,  9.1007e-01, -4.0499e+00, -2.5898e+00,  6.2493e+00,\n",
      "         -3.2134e+00, -9.9758e-01,  1.4776e+00, -3.8497e+00, -6.6398e+00,\n",
      "         -9.6981e-01,  3.8729e+00, -3.7336e+00, -4.7496e+00, -1.9673e+00,\n",
      "          5.9166e+00,  3.3252e+00,  3.6892e+00,  5.2405e+00, -8.1458e-02,\n",
      "          1.4262e+01, -1.6771e+00,  3.2771e-01, -8.9072e-02, -6.3137e+00,\n",
      "          1.5339e+01,  1.7174e+00, -1.8452e+00,  1.5225e+00, -2.4127e+00,\n",
      "         -1.5821e+00,  7.4410e+00,  1.2929e+01, -4.7485e-01, -1.8841e+00,\n",
      "          4.1391e+00,  3.2820e+00,  2.0132e+00, -7.0763e+00, -7.1953e+00,\n",
      "          4.6530e+00, -3.3702e+00, -7.3302e+00, -9.9576e-01, -1.0167e-01,\n",
      "          4.8103e-01,  2.5288e+00, -3.8379e+00, -3.6412e+00, -7.3970e+00,\n",
      "          6.8325e+00, -4.6634e+00, -3.7173e+00,  2.5325e+00,  1.3303e+00,\n",
      "         -1.7521e+00, -4.2558e+00,  4.7801e+00,  6.7722e+00, -9.4826e+00,\n",
      "         -2.2995e+00,  3.9144e+00, -4.0470e+00,  1.1784e+00,  1.3329e+00,\n",
      "          3.7660e+00, -5.6679e+00,  2.9326e+00, -5.0221e+00,  4.6604e-01,\n",
      "         -2.9370e-01, -7.2493e+00, -6.1078e-01, -3.2447e-01, -7.2187e+00,\n",
      "         -2.7392e+00,  5.8992e+00,  2.9460e+00, -3.0756e+00, -6.4281e+00,\n",
      "          6.7258e-01, -4.5181e+00,  3.5932e+00, -4.8402e+00,  2.2651e+00,\n",
      "         -4.1977e+00, -7.9863e+00,  4.7512e+00,  3.2020e-02, -9.7475e-01,\n",
      "         -2.1505e+00,  3.0795e+00,  7.2960e+00, -3.3702e+00, -5.6566e+00,\n",
      "         -2.0877e+00,  5.8623e+00, -3.6447e+00,  1.2344e+00, -4.4037e+00,\n",
      "          2.1551e+00,  4.8776e+00,  2.1397e+00,  1.2717e+01, -2.2827e+00,\n",
      "         -4.4147e+00, -2.1689e+00, -1.0681e+01, -1.0126e+01, -2.6068e+00,\n",
      "          1.9223e-01, -3.1332e+00, -1.5517e+00, -1.3433e+00,  2.8091e+00,\n",
      "          1.8765e-01, -2.3749e+00, -8.1277e+00, -3.5478e+00, -5.9212e+00,\n",
      "          7.6529e+00, -7.4624e-01, -5.2958e+00,  5.8060e+00, -5.1151e+00,\n",
      "         -7.7543e-01,  1.7902e-01, -3.5527e+00, -5.1185e+00,  5.9027e+00,\n",
      "          1.2226e+00,  2.3785e+00, -3.3631e+00,  9.6307e+00,  4.3821e+00,\n",
      "         -8.1806e+00, -3.9878e-01, -1.2149e+00, -3.3802e+00,  1.4738e+00,\n",
      "         -2.5243e+00,  2.7764e+00,  1.1670e+00,  2.2442e+00,  5.4114e+00,\n",
      "         -2.6617e-01,  4.1625e+00, -7.6413e+00,  3.1249e+00,  1.3830e+00,\n",
      "          7.5588e+00, -1.5268e+00, -7.4173e-01, -4.7164e+00,  7.1221e-01,\n",
      "         -1.2808e+00,  1.4510e+00, -2.3834e+00,  5.4475e+00, -7.9038e-01,\n",
      "          3.6925e+00,  3.7914e-01, -7.8978e+00, -2.3235e+00,  6.4924e-01,\n",
      "         -1.8399e+00,  5.6407e+00, -6.7608e+00,  2.5044e+00, -2.3514e+00,\n",
      "         -6.7731e+00, -2.6127e-01,  7.3677e+00,  5.6233e-01, -8.2115e+00,\n",
      "         -2.1228e+00, -6.7412e-01,  5.0957e-02, -1.3972e+00,  4.5785e+00,\n",
      "         -5.2477e+00, -1.4424e+00,  4.7423e+00,  5.0037e+00, -7.5650e-01,\n",
      "         -3.1274e+00, -7.3185e+00,  5.2389e+00,  3.2302e+00, -3.9672e+00,\n",
      "         -2.0745e+00,  6.7266e+00,  4.0131e+00,  3.9997e-01, -2.8693e+00,\n",
      "          1.8611e+00,  2.7508e+00,  3.2287e+00,  7.0299e+00,  8.4369e+00,\n",
      "         -4.0451e+00, -1.0983e+00, -6.3424e-01,  2.1297e+00,  3.5399e+00,\n",
      "          4.9010e-01,  6.7268e+00,  8.0098e-02, -2.2922e+00,  2.2805e+00,\n",
      "          1.8565e+00, -6.6362e+00, -2.0462e-01, -3.0507e+00, -3.5472e+00,\n",
      "         -7.1699e+00,  3.8251e+00, -6.6737e+00,  2.2487e-01, -5.2325e-01,\n",
      "          3.7759e+00, -3.4891e+00,  3.8603e+00, -4.3176e-01, -3.5002e+00,\n",
      "          2.3967e+00,  8.4872e-01, -8.4653e+00,  1.4860e+01,  7.3388e+00,\n",
      "         -8.3472e-01, -6.4549e+00,  2.6761e+00, -9.1919e-01,  3.0702e-01,\n",
      "         -5.3218e+00,  4.3200e+00, -6.8167e+00, -4.5444e+00,  4.2370e+00,\n",
      "          3.4674e+00, -6.1277e+00, -2.2431e+00, -1.4021e+00, -1.0053e-02,\n",
      "         -3.6439e-01, -3.3886e+00,  6.6916e+00, -2.4616e+00,  1.2472e+01,\n",
      "         -3.6748e+00, -1.5616e+01, -3.5052e+00,  7.8981e-02, -2.2897e+00,\n",
      "          8.8946e-01, -6.1429e-03, -2.0850e+00, -1.7649e+00,  3.8610e+00,\n",
      "         -6.9598e-02, -1.4785e+01, -4.9314e+00,  1.1866e+01,  1.2478e+00,\n",
      "         -2.8232e+00,  4.1191e+00, -2.6254e+00,  1.1504e+01,  4.0646e+00,\n",
      "         -3.8662e+00, -8.1470e-01,  4.4995e+00,  4.2003e-01,  1.6769e+00,\n",
      "          4.3646e+00, -1.0614e+00, -1.2913e+00, -3.1239e-01,  2.0072e+00,\n",
      "          1.3903e+01,  3.9440e+00, -8.6627e+00,  5.1513e+00, -3.0030e+00,\n",
      "          1.7243e+00, -1.7439e+00,  1.5085e+00, -6.1585e+00, -1.0713e+01,\n",
      "          1.1610e+00, -4.6945e+00, -6.7855e+00, -1.5856e-01, -2.4540e+00,\n",
      "          5.0568e+00,  8.9609e+00, -9.9777e+00,  5.9207e+00,  3.8168e+00,\n",
      "         -5.2864e+00,  7.1775e+00,  6.6959e+00,  2.7481e-01,  1.7439e+00,\n",
      "          4.4968e+00,  1.0650e+01, -6.1218e-01, -2.0761e+00, -5.4923e-01,\n",
      "         -3.8647e-01,  4.5483e+00, -1.4411e+00, -8.5695e-02]],\n",
      "       grad_fn=<SelectBackward0>)\n"
     ]
    }
   ],
   "source": [
    "loaded_model = torch.jit.load(\"dino_model/1/model.pt\")\n",
    "loaded_model.eval()\n",
    "\n",
    "# Dummy input (batch of 2 images)\n",
    "dummy_input = torch.randn(2, 3, 224, 224)  # Random normalized images\n",
    "output = loaded_model(dummy_input)\n",
    "\n",
    "print(output.shape)  # Should be (2, 384)\n",
    "print(output)"
   ]
  },
  {
   "cell_type": "code",
   "execution_count": 13,
   "id": "0f475741",
   "metadata": {},
   "outputs": [
    {
     "name": "stdout",
     "output_type": "stream",
     "text": [
      "graph(%self.1 : __torch__.DinoFeatureExtractor,\n",
      "      %x.1 : Tensor):\n",
      "  %9 : NoneType = prim::Constant()\n",
      "  %13 : int = prim::Constant[value=1]() # /tmp/ipykernel_587973/3552681436.py:11:12\n",
      "  %14 : int = prim::Constant[value=0]() # /tmp/ipykernel_587973/3552681436.py:11:17\n",
      "  %backbone.1 : __torch__.timm.models.vision_transformer.VisionTransformer = prim::GetAttr[name=\"backbone\"](%self.1)\n",
      "  %x0.1 : Tensor = prim::CallMethod[name=\"forward_features\"](%backbone.1, %x.1) # /tmp/ipykernel_587973/3552681436.py:10:12\n",
      "  %12 : Tensor = aten::slice(%x0.1, %14, %9, %9, %13) # /tmp/ipykernel_587973/3552681436.py:11:12\n",
      "  %15 : Tensor = aten::select(%12, %13, %14) # /tmp/ipykernel_587973/3552681436.py:11:12\n",
      "  return (%15)\n",
      "\n"
     ]
    }
   ],
   "source": [
    "print(loaded_model.graph)"
   ]
  }
 ],
 "metadata": {
  "kernelspec": {
   "display_name": ".venv",
   "language": "python",
   "name": "python3"
  },
  "language_info": {
   "codemirror_mode": {
    "name": "ipython",
    "version": 3
   },
   "file_extension": ".py",
   "mimetype": "text/x-python",
   "name": "python",
   "nbconvert_exporter": "python",
   "pygments_lexer": "ipython3",
   "version": "3.10.12"
  }
 },
 "nbformat": 4,
 "nbformat_minor": 5
}
